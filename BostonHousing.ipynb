{
 "cells": [
  {
   "cell_type": "markdown",
   "metadata": {},
   "source": [
    "<p ><h1 style=\"text-align:center\">Boston Housing Assignment</h1></p>\n",
    "<ul>\n",
    "<li>Tushar Borole (tboro2)</li>\n",
    "<li>Data Science - Fall 2016</li>\n",
    "</ul>"
   ]
  },
  {
   "cell_type": "code",
   "execution_count": 1,
   "metadata": {
    "collapsed": true
   },
   "outputs": [],
   "source": [
    "#import all the required modules to the app\n",
    "from sklearn import datasets\n",
    "import pandas as pd\n",
    "from sklearn.preprocessing import StandardScaler\n",
    "from sklearn.cross_validation import train_test_split\n",
    "from sklearn.metrics import mean_squared_error\n",
    "from sklearn.metrics import r2_score\n",
    "from sklearn.linear_model import LinearRegression\n",
    "from sklearn.linear_model import Lasso\n",
    "from sklearn.linear_model import Ridge"
   ]
  },
  {
   "cell_type": "code",
   "execution_count": 2,
   "metadata": {
    "collapsed": false
   },
   "outputs": [
    {
     "name": "stdout",
     "output_type": "stream",
     "text": [
      "{'data': array([[  6.32000000e-03,   1.80000000e+01,   2.31000000e+00, ...,\n",
      "          1.53000000e+01,   3.96900000e+02,   4.98000000e+00],\n",
      "       [  2.73100000e-02,   0.00000000e+00,   7.07000000e+00, ...,\n",
      "          1.78000000e+01,   3.96900000e+02,   9.14000000e+00],\n",
      "       [  2.72900000e-02,   0.00000000e+00,   7.07000000e+00, ...,\n",
      "          1.78000000e+01,   3.92830000e+02,   4.03000000e+00],\n",
      "       ..., \n",
      "       [  6.07600000e-02,   0.00000000e+00,   1.19300000e+01, ...,\n",
      "          2.10000000e+01,   3.96900000e+02,   5.64000000e+00],\n",
      "       [  1.09590000e-01,   0.00000000e+00,   1.19300000e+01, ...,\n",
      "          2.10000000e+01,   3.93450000e+02,   6.48000000e+00],\n",
      "       [  4.74100000e-02,   0.00000000e+00,   1.19300000e+01, ...,\n",
      "          2.10000000e+01,   3.96900000e+02,   7.88000000e+00]]), 'feature_names': array(['CRIM', 'ZN', 'INDUS', 'CHAS', 'NOX', 'RM', 'AGE', 'DIS', 'RAD',\n",
      "       'TAX', 'PTRATIO', 'B', 'LSTAT'], \n",
      "      dtype='|S7'), 'DESCR': \"Boston House Prices dataset\\n\\nNotes\\n------\\nData Set Characteristics:  \\n\\n    :Number of Instances: 506 \\n\\n    :Number of Attributes: 13 numeric/categorical predictive\\n    \\n    :Median Value (attribute 14) is usually the target\\n\\n    :Attribute Information (in order):\\n        - CRIM     per capita crime rate by town\\n        - ZN       proportion of residential land zoned for lots over 25,000 sq.ft.\\n        - INDUS    proportion of non-retail business acres per town\\n        - CHAS     Charles River dummy variable (= 1 if tract bounds river; 0 otherwise)\\n        - NOX      nitric oxides concentration (parts per 10 million)\\n        - RM       average number of rooms per dwelling\\n        - AGE      proportion of owner-occupied units built prior to 1940\\n        - DIS      weighted distances to five Boston employment centres\\n        - RAD      index of accessibility to radial highways\\n        - TAX      full-value property-tax rate per $10,000\\n        - PTRATIO  pupil-teacher ratio by town\\n        - B        1000(Bk - 0.63)^2 where Bk is the proportion of blacks by town\\n        - LSTAT    % lower status of the population\\n        - MEDV     Median value of owner-occupied homes in $1000's\\n\\n    :Missing Attribute Values: None\\n\\n    :Creator: Harrison, D. and Rubinfeld, D.L.\\n\\nThis is a copy of UCI ML housing dataset.\\nhttp://archive.ics.uci.edu/ml/datasets/Housing\\n\\n\\nThis dataset was taken from the StatLib library which is maintained at Carnegie Mellon University.\\n\\nThe Boston house-price data of Harrison, D. and Rubinfeld, D.L. 'Hedonic\\nprices and the demand for clean air', J. Environ. Economics & Management,\\nvol.5, 81-102, 1978.   Used in Belsley, Kuh & Welsch, 'Regression diagnostics\\n...', Wiley, 1980.   N.B. Various transformations are used in the table on\\npages 244-261 of the latter.\\n\\nThe Boston house-price data has been used in many machine learning papers that address regression\\nproblems.   \\n     \\n**References**\\n\\n   - Belsley, Kuh & Welsch, 'Regression diagnostics: Identifying Influential Data and Sources of Collinearity', Wiley, 1980. 244-261.\\n   - Quinlan,R. (1993). Combining Instance-Based and Model-Based Learning. In Proceedings on the Tenth International Conference of Machine Learning, 236-243, University of Massachusetts, Amherst. Morgan Kaufmann.\\n   - many more! (see http://archive.ics.uci.edu/ml/datasets/Housing)\\n\", 'target': array([ 24. ,  21.6,  34.7,  33.4,  36.2,  28.7,  22.9,  27.1,  16.5,\n",
      "        18.9,  15. ,  18.9,  21.7,  20.4,  18.2,  19.9,  23.1,  17.5,\n",
      "        20.2,  18.2,  13.6,  19.6,  15.2,  14.5,  15.6,  13.9,  16.6,\n",
      "        14.8,  18.4,  21. ,  12.7,  14.5,  13.2,  13.1,  13.5,  18.9,\n",
      "        20. ,  21. ,  24.7,  30.8,  34.9,  26.6,  25.3,  24.7,  21.2,\n",
      "        19.3,  20. ,  16.6,  14.4,  19.4,  19.7,  20.5,  25. ,  23.4,\n",
      "        18.9,  35.4,  24.7,  31.6,  23.3,  19.6,  18.7,  16. ,  22.2,\n",
      "        25. ,  33. ,  23.5,  19.4,  22. ,  17.4,  20.9,  24.2,  21.7,\n",
      "        22.8,  23.4,  24.1,  21.4,  20. ,  20.8,  21.2,  20.3,  28. ,\n",
      "        23.9,  24.8,  22.9,  23.9,  26.6,  22.5,  22.2,  23.6,  28.7,\n",
      "        22.6,  22. ,  22.9,  25. ,  20.6,  28.4,  21.4,  38.7,  43.8,\n",
      "        33.2,  27.5,  26.5,  18.6,  19.3,  20.1,  19.5,  19.5,  20.4,\n",
      "        19.8,  19.4,  21.7,  22.8,  18.8,  18.7,  18.5,  18.3,  21.2,\n",
      "        19.2,  20.4,  19.3,  22. ,  20.3,  20.5,  17.3,  18.8,  21.4,\n",
      "        15.7,  16.2,  18. ,  14.3,  19.2,  19.6,  23. ,  18.4,  15.6,\n",
      "        18.1,  17.4,  17.1,  13.3,  17.8,  14. ,  14.4,  13.4,  15.6,\n",
      "        11.8,  13.8,  15.6,  14.6,  17.8,  15.4,  21.5,  19.6,  15.3,\n",
      "        19.4,  17. ,  15.6,  13.1,  41.3,  24.3,  23.3,  27. ,  50. ,\n",
      "        50. ,  50. ,  22.7,  25. ,  50. ,  23.8,  23.8,  22.3,  17.4,\n",
      "        19.1,  23.1,  23.6,  22.6,  29.4,  23.2,  24.6,  29.9,  37.2,\n",
      "        39.8,  36.2,  37.9,  32.5,  26.4,  29.6,  50. ,  32. ,  29.8,\n",
      "        34.9,  37. ,  30.5,  36.4,  31.1,  29.1,  50. ,  33.3,  30.3,\n",
      "        34.6,  34.9,  32.9,  24.1,  42.3,  48.5,  50. ,  22.6,  24.4,\n",
      "        22.5,  24.4,  20. ,  21.7,  19.3,  22.4,  28.1,  23.7,  25. ,\n",
      "        23.3,  28.7,  21.5,  23. ,  26.7,  21.7,  27.5,  30.1,  44.8,\n",
      "        50. ,  37.6,  31.6,  46.7,  31.5,  24.3,  31.7,  41.7,  48.3,\n",
      "        29. ,  24. ,  25.1,  31.5,  23.7,  23.3,  22. ,  20.1,  22.2,\n",
      "        23.7,  17.6,  18.5,  24.3,  20.5,  24.5,  26.2,  24.4,  24.8,\n",
      "        29.6,  42.8,  21.9,  20.9,  44. ,  50. ,  36. ,  30.1,  33.8,\n",
      "        43.1,  48.8,  31. ,  36.5,  22.8,  30.7,  50. ,  43.5,  20.7,\n",
      "        21.1,  25.2,  24.4,  35.2,  32.4,  32. ,  33.2,  33.1,  29.1,\n",
      "        35.1,  45.4,  35.4,  46. ,  50. ,  32.2,  22. ,  20.1,  23.2,\n",
      "        22.3,  24.8,  28.5,  37.3,  27.9,  23.9,  21.7,  28.6,  27.1,\n",
      "        20.3,  22.5,  29. ,  24.8,  22. ,  26.4,  33.1,  36.1,  28.4,\n",
      "        33.4,  28.2,  22.8,  20.3,  16.1,  22.1,  19.4,  21.6,  23.8,\n",
      "        16.2,  17.8,  19.8,  23.1,  21. ,  23.8,  23.1,  20.4,  18.5,\n",
      "        25. ,  24.6,  23. ,  22.2,  19.3,  22.6,  19.8,  17.1,  19.4,\n",
      "        22.2,  20.7,  21.1,  19.5,  18.5,  20.6,  19. ,  18.7,  32.7,\n",
      "        16.5,  23.9,  31.2,  17.5,  17.2,  23.1,  24.5,  26.6,  22.9,\n",
      "        24.1,  18.6,  30.1,  18.2,  20.6,  17.8,  21.7,  22.7,  22.6,\n",
      "        25. ,  19.9,  20.8,  16.8,  21.9,  27.5,  21.9,  23.1,  50. ,\n",
      "        50. ,  50. ,  50. ,  50. ,  13.8,  13.8,  15. ,  13.9,  13.3,\n",
      "        13.1,  10.2,  10.4,  10.9,  11.3,  12.3,   8.8,   7.2,  10.5,\n",
      "         7.4,  10.2,  11.5,  15.1,  23.2,   9.7,  13.8,  12.7,  13.1,\n",
      "        12.5,   8.5,   5. ,   6.3,   5.6,   7.2,  12.1,   8.3,   8.5,\n",
      "         5. ,  11.9,  27.9,  17.2,  27.5,  15. ,  17.2,  17.9,  16.3,\n",
      "         7. ,   7.2,   7.5,  10.4,   8.8,   8.4,  16.7,  14.2,  20.8,\n",
      "        13.4,  11.7,   8.3,  10.2,  10.9,  11. ,   9.5,  14.5,  14.1,\n",
      "        16.1,  14.3,  11.7,  13.4,   9.6,   8.7,   8.4,  12.8,  10.5,\n",
      "        17.1,  18.4,  15.4,  10.8,  11.8,  14.9,  12.6,  14.1,  13. ,\n",
      "        13.4,  15.2,  16.1,  17.8,  14.9,  14.1,  12.7,  13.5,  14.9,\n",
      "        20. ,  16.4,  17.7,  19.5,  20.2,  21.4,  19.9,  19. ,  19.1,\n",
      "        19.1,  20.1,  19.9,  19.6,  23.2,  29.8,  13.8,  13.3,  16.7,\n",
      "        12. ,  14.6,  21.4,  23. ,  23.7,  25. ,  21.8,  20.6,  21.2,\n",
      "        19.1,  20.6,  15.2,   7. ,   8.1,  13.6,  20.1,  21.8,  24.5,\n",
      "        23.1,  19.7,  18.3,  21.2,  17.5,  16.8,  22.4,  20.6,  23.9,\n",
      "        22. ,  11.9])}\n"
     ]
    }
   ],
   "source": [
    "#load the hosing dataset and print it to view the result\n",
    "bean=datasets.load_boston()\n",
    "print bean"
   ]
  },
  {
   "cell_type": "code",
   "execution_count": 3,
   "metadata": {
    "collapsed": true
   },
   "outputs": [],
   "source": [
    "def load_boston():\n",
    "    scaler = StandardScaler()\n",
    "    boston = datasets.load_boston()\n",
    "    X=boston.data\n",
    "    y=boston.target\n",
    "    X = scaler.fit_transform(X)\n",
    "    return train_test_split(X,y)"
   ]
  },
  {
   "cell_type": "code",
   "execution_count": 4,
   "metadata": {
    "collapsed": false
   },
   "outputs": [
    {
     "name": "stdout",
     "output_type": "stream",
     "text": [
      "(379L, 13L) (379L,)\n"
     ]
    }
   ],
   "source": [
    "#load the data to the individal variable\n",
    "X_train, X_test, y_train, y_test = load_boston()\n",
    "print X_train.shape,y_train.shape"
   ]
  },
  {
   "cell_type": "markdown",
   "metadata": {},
   "source": [
    "<h3>Linear Regression</h3>"
   ]
  },
  {
   "cell_type": "code",
   "execution_count": 5,
   "metadata": {
    "collapsed": false
   },
   "outputs": [
    {
     "data": {
      "text/plain": [
       "LinearRegression(copy_X=True, fit_intercept=True, n_jobs=1, normalize=False)"
      ]
     },
     "execution_count": 5,
     "metadata": {},
     "output_type": "execute_result"
    }
   ],
   "source": [
    "nlr=LinearRegression()\n",
    "nlr.fit(X_train,y_train)"
   ]
  },
  {
   "cell_type": "code",
   "execution_count": 6,
   "metadata": {
    "collapsed": false
   },
   "outputs": [
    {
     "data": {
      "text/plain": [
       "[(21.5, 25.799731063407346),\n",
       " (50.0, 42.405741208189895),\n",
       " (20.0, 18.55362692310463),\n",
       " (22.5, 18.253135759716983),\n",
       " (23.0, 19.583086988596285),\n",
       " (11.300000000000001, 13.874109121398536),\n",
       " (14.199999999999999, 18.18447846672078),\n",
       " (35.399999999999999, 30.28282028446629),\n",
       " (34.700000000000003, 30.18135456562581),\n",
       " (28.199999999999999, 32.038282943883601),\n",
       " (20.600000000000001, 15.894470468486793),\n",
       " (19.399999999999999, 23.808071309969868),\n",
       " (26.399999999999999, 29.187674610322905),\n",
       " (18.699999999999999, 21.299386427826416),\n",
       " (25.0, 27.777589371130155),\n",
       " (16.600000000000001, 15.299901670578061),\n",
       " (36.0, 36.781034379606687),\n",
       " (33.299999999999997, 36.794472644045825),\n",
       " (10.9, 13.981531532465253),\n",
       " (50.0, 37.246377492769412),\n",
       " (8.4000000000000004, 4.8918596762344997),\n",
       " (20.100000000000001, 24.443023917333534),\n",
       " (23.699999999999999, 27.00286279104753),\n",
       " (22.300000000000001, 27.673003177906711),\n",
       " (24.0, 25.611323247653875),\n",
       " (11.9, 9.4549973334344806),\n",
       " (21.600000000000001, 25.221464962452128),\n",
       " (30.100000000000001, 35.601104461104612),\n",
       " (39.799999999999997, 33.790599336825437),\n",
       " (24.0, 30.451015478765584),\n",
       " (20.600000000000001, 27.112896894417382),\n",
       " (50.0, 34.264812165349156),\n",
       " (23.0, 23.299209776322318),\n",
       " (23.600000000000001, 29.438255334610986),\n",
       " (31.5, 31.058429905549552),\n",
       " (18.199999999999999, 18.886903928940562),\n",
       " (22.0, 27.99589946091163),\n",
       " (15.0, 15.643581792179761),\n",
       " (14.5, 18.141334516018532),\n",
       " (13.1, 20.157805547566824),\n",
       " (23.699999999999999, 28.625875578596713),\n",
       " (17.0, 23.197038348899017),\n",
       " (7.2000000000000002, 8.6937368517831572),\n",
       " (22.600000000000001, 24.768354194309332),\n",
       " (36.200000000000003, 27.739977964774049),\n",
       " (19.5, 17.084870995088664),\n",
       " (31.0, 34.746940057383554),\n",
       " (33.200000000000003, 35.114081740588688),\n",
       " (13.4, 13.239770564314584),\n",
       " (16.600000000000001, 18.568881370046398),\n",
       " (21.0, 20.12526926491693),\n",
       " (14.5, 13.676614943960635),\n",
       " (24.800000000000001, 24.762688448023095),\n",
       " (19.399999999999999, 18.242216160745599),\n",
       " (23.399999999999999, 24.503116742573596),\n",
       " (34.899999999999999, 33.262359777924175),\n",
       " (44.799999999999997, 37.374156244584711),\n",
       " (21.199999999999999, 23.198294273813936),\n",
       " (22.399999999999999, 23.10856182906268),\n",
       " (24.100000000000001, 25.541535344112564),\n",
       " (7.2000000000000002, 17.768422002449682),\n",
       " (17.5, 18.748666682956145),\n",
       " (13.300000000000001, 13.653493681475402),\n",
       " (24.699999999999999, 24.6095667098935),\n",
       " (20.800000000000001, 23.669481569406081),\n",
       " (19.0, 14.489321020455044),\n",
       " (23.0, 30.304172154369827),\n",
       " (22.800000000000001, 29.487637747530727),\n",
       " (13.300000000000001, 19.918202409159729),\n",
       " (32.0, 33.84425569521909),\n",
       " (46.700000000000003, 34.550028424792053),\n",
       " (5.5999999999999996, 12.111445177056291),\n",
       " (16.199999999999999, 20.967877964080539),\n",
       " (27.899999999999999, 20.387329195313288),\n",
       " (22.899999999999999, 20.206329190006993),\n",
       " (19.100000000000001, 25.661915848066901),\n",
       " (10.199999999999999, 7.3379825617732877),\n",
       " (33.399999999999999, 28.042720300488053),\n",
       " (20.199999999999999, 15.883672722668276),\n",
       " (33.100000000000001, 32.786607475780059),\n",
       " (50.0, 38.554949665434513),\n",
       " (36.399999999999999, 33.170020982114757),\n",
       " (24.399999999999999, 28.125928228865021),\n",
       " (20.399999999999999, 19.151510554826643),\n",
       " (24.199999999999999, 24.94103596037186),\n",
       " (29.100000000000001, 30.102941609690347),\n",
       " (25.0, 28.930872057815971),\n",
       " (21.199999999999999, 23.790404131828339),\n",
       " (37.299999999999997, 33.192608361254372),\n",
       " (16.800000000000001, 20.425537375504252),\n",
       " (14.300000000000001, 16.750347217705787),\n",
       " (17.5, 16.571910472455613),\n",
       " (19.199999999999999, 24.245454518227188),\n",
       " (23.100000000000001, 16.930068168833508),\n",
       " (22.600000000000001, 19.084373556169872),\n",
       " (21.399999999999999, 20.302161970605312),\n",
       " (21.699999999999999, 20.155298749386365),\n",
       " (8.3000000000000007, 10.075974485456815),\n",
       " (20.0, 20.803938351875424),\n",
       " (25.0, 24.460392782691105),\n",
       " (8.5, 7.8477019066364484),\n",
       " (23.899999999999999, 26.557416995047575),\n",
       " (22.199999999999999, 19.196036898072784),\n",
       " (43.100000000000001, 37.30977090269846),\n",
       " (33.200000000000003, 31.675854004203622),\n",
       " (17.800000000000001, 19.659872197869827),\n",
       " (14.1, 15.473032967740908),\n",
       " (21.699999999999999, 25.365461515053426),\n",
       " (12.699999999999999, 18.155092486614759),\n",
       " (15.6, 20.786022222608764),\n",
       " (20.899999999999999, 21.13038942014531),\n",
       " (20.800000000000001, 18.953937361121255),\n",
       " (50.0, 44.388538104389255),\n",
       " (26.600000000000001, 21.563807889834194),\n",
       " (18.800000000000001, 21.441197768070442),\n",
       " (25.199999999999999, 26.82572811818131),\n",
       " (22.5, 29.880340538353224),\n",
       " (28.699999999999999, 25.117018119127621),\n",
       " (14.9, 17.517445768665148),\n",
       " (16.5, 22.858880391533045),\n",
       " (7.0, 9.2136877051990993),\n",
       " (19.300000000000001, 17.879872923435354),\n",
       " (16.399999999999999, 18.677348152607241),\n",
       " (25.0, 22.379142175422739),\n",
       " (15.4, 15.855914166873589),\n",
       " (24.399999999999999, 23.757179986181079),\n",
       " (31.100000000000001, 32.165244533887858)]"
      ]
     },
     "execution_count": 6,
     "metadata": {},
     "output_type": "execute_result"
    }
   ],
   "source": [
    "zip(y_test,nlr.predict(X_test))"
   ]
  },
  {
   "cell_type": "markdown",
   "metadata": {},
   "source": [
    "<h3>R2Score and Mean Squared Error (MSE)</h3>"
   ]
  },
  {
   "cell_type": "code",
   "execution_count": 7,
   "metadata": {
    "collapsed": false
   },
   "outputs": [
    {
     "name": "stdout",
     "output_type": "stream",
     "text": [
      "Linear Regression R2Score 0.774967324005\n",
      "Linear Regression MSE 20.4776060184\n"
     ]
    }
   ],
   "source": [
    "#calculate the r2Score\n",
    "y_LrPred=nlr.predict(X_test)\n",
    "r2Score=r2_score(y_test,y_LrPred)\n",
    "mseValue=mean_squared_error(y_test,y_LrPred)\n",
    "print \"Linear Regression R2Score\", r2Score\n",
    "print \"Linear Regression MSE\", mseValue"
   ]
  },
  {
   "cell_type": "markdown",
   "metadata": {},
   "source": [
    "<h2>Lasso Linear Model</h2>"
   ]
  },
  {
   "cell_type": "code",
   "execution_count": 8,
   "metadata": {
    "collapsed": false
   },
   "outputs": [
    {
     "name": "stdout",
     "output_type": "stream",
     "text": [
      "Lasso R2:-  0.76504706209\n",
      "Lasso MSE:-  21.3803336521\n"
     ]
    }
   ],
   "source": [
    "clf = Lasso(alpha=0.1)\n",
    "clf.fit(X_train, y_train)\n",
    "r2score=r2_score(y_test, clf.predict(X_test))\n",
    "print \"Lasso R2:- \", r2score\n",
    "mse = mean_squared_error(y_test, clf.predict(X_test))\n",
    "print \"Lasso MSE:- \", mse"
   ]
  },
  {
   "cell_type": "code",
   "execution_count": 9,
   "metadata": {
    "collapsed": false
   },
   "outputs": [
    {
     "name": "stdout",
     "output_type": "stream",
     "text": [
      "Lasso R2:-  0.774643087873\n",
      "Lasso MSE:-  20.5071109769\n"
     ]
    }
   ],
   "source": [
    "clf = Lasso(alpha=0.01)\n",
    "clf.fit(X_train, y_train)\n",
    "r2score=r2_score(y_test, clf.predict(X_test))\n",
    "print \"Lasso R2:- \", r2score\n",
    "mse = mean_squared_error(y_test, clf.predict(X_test))\n",
    "print \"Lasso MSE:- \", mse"
   ]
  },
  {
   "cell_type": "markdown",
   "metadata": {},
   "source": [
    "<h2>Ridge Linear Model</h2>"
   ]
  },
  {
   "cell_type": "code",
   "execution_count": 10,
   "metadata": {
    "collapsed": false
   },
   "outputs": [
    {
     "name": "stdout",
     "output_type": "stream",
     "text": [
      "Ridge R2:-  0.774954044914\n",
      "Ridge MSE:-  20.478814394\n"
     ]
    }
   ],
   "source": [
    "alpha=0.1\n",
    "ridge=Ridge(alpha=alpha)\n",
    "ridge.fit(X_train,y_train)\n",
    "y_RgPred=ridge.predict(X_test)\n",
    "r2RgScore=r2_score(y_test,y_RgPred)\n",
    "print \"Ridge R2:- \", r2RgScore\n",
    "mseRgScore=mean_squared_error(y_test,y_RgPred)\n",
    "print \"Ridge MSE:- \", mseRgScore"
   ]
  },
  {
   "cell_type": "markdown",
   "metadata": {},
   "source": [
    "<h2> Optimization of Ridge Linear Model</h2>"
   ]
  },
  {
   "cell_type": "code",
   "execution_count": 11,
   "metadata": {
    "collapsed": false
   },
   "outputs": [
    {
     "name": "stdout",
     "output_type": "stream",
     "text": [
      "Ridge R2:-  0.774966011318\n",
      "Ridge MSE:-  20.4777254708\n"
     ]
    }
   ],
   "source": [
    "#try with different alpha value\n",
    "alpha=0.01\n",
    "ridge=Ridge(alpha=alpha)\n",
    "ridge.fit(X_train,y_train)\n",
    "y_RgPred=ridge.predict(X_test)\n",
    "r2RgScore=r2_score(y_test,y_RgPred)\n",
    "print \"Ridge R2:- \", r2RgScore\n",
    "mseRgScore=mean_squared_error(y_test,y_RgPred)\n",
    "print \"Ridge MSE:- \", mseRgScore"
   ]
  },
  {
   "cell_type": "code",
   "execution_count": 12,
   "metadata": {
    "collapsed": false
   },
   "outputs": [
    {
     "name": "stdout",
     "output_type": "stream",
     "text": [
      "Ridge R2:-  0.774940431393\n",
      "Ridge MSE:-  20.4800532022\n"
     ]
    }
   ],
   "source": [
    "#try with different alpha value\n",
    "alpha=0.2\n",
    "ridge=Ridge(alpha=alpha)\n",
    "ridge.fit(X_train,y_train)\n",
    "y_RgPred=ridge.predict(X_test)\n",
    "r2RgScore=r2_score(y_test,y_RgPred)\n",
    "print \"Ridge R2:- \", r2RgScore\n",
    "mseRgScore=mean_squared_error(y_test,y_RgPred)\n",
    "print \"Ridge MSE:- \", mseRgScore"
   ]
  },
  {
   "cell_type": "markdown",
   "metadata": {},
   "source": [
    "<h2>Analysis</h2>"
   ]
  },
  {
   "cell_type": "markdown",
   "metadata": {},
   "source": [
    "<h2 style=\"color:green\">R2/MSE of the standard Linear Regression, Lasso, and Ridge model. After optimization,the Ridge linear model it does <b>not significantly deviate</b> from the performance of the original Linear Regression for this dataset.</h2>"
   ]
  },
  {
   "cell_type": "code",
   "execution_count": null,
   "metadata": {
    "collapsed": true
   },
   "outputs": [],
   "source": []
  }
 ],
 "metadata": {
  "anaconda-cloud": {},
  "kernelspec": {
   "display_name": "Python [Root]",
   "language": "python",
   "name": "Python [Root]"
  },
  "language_info": {
   "codemirror_mode": {
    "name": "ipython",
    "version": 2
   },
   "file_extension": ".py",
   "mimetype": "text/x-python",
   "name": "python",
   "nbconvert_exporter": "python",
   "pygments_lexer": "ipython2",
   "version": "2.7.12"
  }
 },
 "nbformat": 4,
 "nbformat_minor": 0
}
