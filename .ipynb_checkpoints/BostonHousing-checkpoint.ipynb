{
 "cells": [
  {
   "cell_type": "markdown",
   "metadata": {},
   "source": [
    "<p ><h1 style=\"text-align:center\">Boston Housing Assignment</h1></p>\n",
    "<ul>\n",
    "<li>Tushar Borole (tboro2)</li>\n",
    "<li>Data Science - Fall 2016</li>\n",
    "</ul>"
   ]
  },
  {
   "cell_type": "code",
   "execution_count": 21,
   "metadata": {
    "collapsed": true
   },
   "outputs": [],
   "source": [
    "#import all the required modules to the app\n",
    "from sklearn import datasets\n",
    "import pandas as pd\n",
    "from sklearn.preprocessing import StandardScaler\n",
    "from sklearn.cross_validation import train_test_split\n",
    "from sklearn.metrics import mean_squared_error\n",
    "from sklearn.metrics import r2_score\n",
    "from sklearn.linear_model import LinearRegression\n",
    "from sklearn.linear_model import Lasso\n",
    "from sklearn.linear_model import Ridge"
   ]
  },
  {
   "cell_type": "code",
   "execution_count": 28,
   "metadata": {
    "collapsed": false
   },
   "outputs": [
    {
     "name": "stdout",
     "output_type": "stream",
     "text": [
      "{'data': array([[  6.32000000e-03,   1.80000000e+01,   2.31000000e+00, ...,\n",
      "          1.53000000e+01,   3.96900000e+02,   4.98000000e+00],\n",
      "       [  2.73100000e-02,   0.00000000e+00,   7.07000000e+00, ...,\n",
      "          1.78000000e+01,   3.96900000e+02,   9.14000000e+00],\n",
      "       [  2.72900000e-02,   0.00000000e+00,   7.07000000e+00, ...,\n",
      "          1.78000000e+01,   3.92830000e+02,   4.03000000e+00],\n",
      "       ..., \n",
      "       [  6.07600000e-02,   0.00000000e+00,   1.19300000e+01, ...,\n",
      "          2.10000000e+01,   3.96900000e+02,   5.64000000e+00],\n",
      "       [  1.09590000e-01,   0.00000000e+00,   1.19300000e+01, ...,\n",
      "          2.10000000e+01,   3.93450000e+02,   6.48000000e+00],\n",
      "       [  4.74100000e-02,   0.00000000e+00,   1.19300000e+01, ...,\n",
      "          2.10000000e+01,   3.96900000e+02,   7.88000000e+00]]), 'feature_names': array(['CRIM', 'ZN', 'INDUS', 'CHAS', 'NOX', 'RM', 'AGE', 'DIS', 'RAD',\n",
      "       'TAX', 'PTRATIO', 'B', 'LSTAT'], \n",
      "      dtype='|S7'), 'DESCR': \"Boston House Prices dataset\\n\\nNotes\\n------\\nData Set Characteristics:  \\n\\n    :Number of Instances: 506 \\n\\n    :Number of Attributes: 13 numeric/categorical predictive\\n    \\n    :Median Value (attribute 14) is usually the target\\n\\n    :Attribute Information (in order):\\n        - CRIM     per capita crime rate by town\\n        - ZN       proportion of residential land zoned for lots over 25,000 sq.ft.\\n        - INDUS    proportion of non-retail business acres per town\\n        - CHAS     Charles River dummy variable (= 1 if tract bounds river; 0 otherwise)\\n        - NOX      nitric oxides concentration (parts per 10 million)\\n        - RM       average number of rooms per dwelling\\n        - AGE      proportion of owner-occupied units built prior to 1940\\n        - DIS      weighted distances to five Boston employment centres\\n        - RAD      index of accessibility to radial highways\\n        - TAX      full-value property-tax rate per $10,000\\n        - PTRATIO  pupil-teacher ratio by town\\n        - B        1000(Bk - 0.63)^2 where Bk is the proportion of blacks by town\\n        - LSTAT    % lower status of the population\\n        - MEDV     Median value of owner-occupied homes in $1000's\\n\\n    :Missing Attribute Values: None\\n\\n    :Creator: Harrison, D. and Rubinfeld, D.L.\\n\\nThis is a copy of UCI ML housing dataset.\\nhttp://archive.ics.uci.edu/ml/datasets/Housing\\n\\n\\nThis dataset was taken from the StatLib library which is maintained at Carnegie Mellon University.\\n\\nThe Boston house-price data of Harrison, D. and Rubinfeld, D.L. 'Hedonic\\nprices and the demand for clean air', J. Environ. Economics & Management,\\nvol.5, 81-102, 1978.   Used in Belsley, Kuh & Welsch, 'Regression diagnostics\\n...', Wiley, 1980.   N.B. Various transformations are used in the table on\\npages 244-261 of the latter.\\n\\nThe Boston house-price data has been used in many machine learning papers that address regression\\nproblems.   \\n     \\n**References**\\n\\n   - Belsley, Kuh & Welsch, 'Regression diagnostics: Identifying Influential Data and Sources of Collinearity', Wiley, 1980. 244-261.\\n   - Quinlan,R. (1993). Combining Instance-Based and Model-Based Learning. In Proceedings on the Tenth International Conference of Machine Learning, 236-243, University of Massachusetts, Amherst. Morgan Kaufmann.\\n   - many more! (see http://archive.ics.uci.edu/ml/datasets/Housing)\\n\", 'target': array([ 24. ,  21.6,  34.7,  33.4,  36.2,  28.7,  22.9,  27.1,  16.5,\n",
      "        18.9,  15. ,  18.9,  21.7,  20.4,  18.2,  19.9,  23.1,  17.5,\n",
      "        20.2,  18.2,  13.6,  19.6,  15.2,  14.5,  15.6,  13.9,  16.6,\n",
      "        14.8,  18.4,  21. ,  12.7,  14.5,  13.2,  13.1,  13.5,  18.9,\n",
      "        20. ,  21. ,  24.7,  30.8,  34.9,  26.6,  25.3,  24.7,  21.2,\n",
      "        19.3,  20. ,  16.6,  14.4,  19.4,  19.7,  20.5,  25. ,  23.4,\n",
      "        18.9,  35.4,  24.7,  31.6,  23.3,  19.6,  18.7,  16. ,  22.2,\n",
      "        25. ,  33. ,  23.5,  19.4,  22. ,  17.4,  20.9,  24.2,  21.7,\n",
      "        22.8,  23.4,  24.1,  21.4,  20. ,  20.8,  21.2,  20.3,  28. ,\n",
      "        23.9,  24.8,  22.9,  23.9,  26.6,  22.5,  22.2,  23.6,  28.7,\n",
      "        22.6,  22. ,  22.9,  25. ,  20.6,  28.4,  21.4,  38.7,  43.8,\n",
      "        33.2,  27.5,  26.5,  18.6,  19.3,  20.1,  19.5,  19.5,  20.4,\n",
      "        19.8,  19.4,  21.7,  22.8,  18.8,  18.7,  18.5,  18.3,  21.2,\n",
      "        19.2,  20.4,  19.3,  22. ,  20.3,  20.5,  17.3,  18.8,  21.4,\n",
      "        15.7,  16.2,  18. ,  14.3,  19.2,  19.6,  23. ,  18.4,  15.6,\n",
      "        18.1,  17.4,  17.1,  13.3,  17.8,  14. ,  14.4,  13.4,  15.6,\n",
      "        11.8,  13.8,  15.6,  14.6,  17.8,  15.4,  21.5,  19.6,  15.3,\n",
      "        19.4,  17. ,  15.6,  13.1,  41.3,  24.3,  23.3,  27. ,  50. ,\n",
      "        50. ,  50. ,  22.7,  25. ,  50. ,  23.8,  23.8,  22.3,  17.4,\n",
      "        19.1,  23.1,  23.6,  22.6,  29.4,  23.2,  24.6,  29.9,  37.2,\n",
      "        39.8,  36.2,  37.9,  32.5,  26.4,  29.6,  50. ,  32. ,  29.8,\n",
      "        34.9,  37. ,  30.5,  36.4,  31.1,  29.1,  50. ,  33.3,  30.3,\n",
      "        34.6,  34.9,  32.9,  24.1,  42.3,  48.5,  50. ,  22.6,  24.4,\n",
      "        22.5,  24.4,  20. ,  21.7,  19.3,  22.4,  28.1,  23.7,  25. ,\n",
      "        23.3,  28.7,  21.5,  23. ,  26.7,  21.7,  27.5,  30.1,  44.8,\n",
      "        50. ,  37.6,  31.6,  46.7,  31.5,  24.3,  31.7,  41.7,  48.3,\n",
      "        29. ,  24. ,  25.1,  31.5,  23.7,  23.3,  22. ,  20.1,  22.2,\n",
      "        23.7,  17.6,  18.5,  24.3,  20.5,  24.5,  26.2,  24.4,  24.8,\n",
      "        29.6,  42.8,  21.9,  20.9,  44. ,  50. ,  36. ,  30.1,  33.8,\n",
      "        43.1,  48.8,  31. ,  36.5,  22.8,  30.7,  50. ,  43.5,  20.7,\n",
      "        21.1,  25.2,  24.4,  35.2,  32.4,  32. ,  33.2,  33.1,  29.1,\n",
      "        35.1,  45.4,  35.4,  46. ,  50. ,  32.2,  22. ,  20.1,  23.2,\n",
      "        22.3,  24.8,  28.5,  37.3,  27.9,  23.9,  21.7,  28.6,  27.1,\n",
      "        20.3,  22.5,  29. ,  24.8,  22. ,  26.4,  33.1,  36.1,  28.4,\n",
      "        33.4,  28.2,  22.8,  20.3,  16.1,  22.1,  19.4,  21.6,  23.8,\n",
      "        16.2,  17.8,  19.8,  23.1,  21. ,  23.8,  23.1,  20.4,  18.5,\n",
      "        25. ,  24.6,  23. ,  22.2,  19.3,  22.6,  19.8,  17.1,  19.4,\n",
      "        22.2,  20.7,  21.1,  19.5,  18.5,  20.6,  19. ,  18.7,  32.7,\n",
      "        16.5,  23.9,  31.2,  17.5,  17.2,  23.1,  24.5,  26.6,  22.9,\n",
      "        24.1,  18.6,  30.1,  18.2,  20.6,  17.8,  21.7,  22.7,  22.6,\n",
      "        25. ,  19.9,  20.8,  16.8,  21.9,  27.5,  21.9,  23.1,  50. ,\n",
      "        50. ,  50. ,  50. ,  50. ,  13.8,  13.8,  15. ,  13.9,  13.3,\n",
      "        13.1,  10.2,  10.4,  10.9,  11.3,  12.3,   8.8,   7.2,  10.5,\n",
      "         7.4,  10.2,  11.5,  15.1,  23.2,   9.7,  13.8,  12.7,  13.1,\n",
      "        12.5,   8.5,   5. ,   6.3,   5.6,   7.2,  12.1,   8.3,   8.5,\n",
      "         5. ,  11.9,  27.9,  17.2,  27.5,  15. ,  17.2,  17.9,  16.3,\n",
      "         7. ,   7.2,   7.5,  10.4,   8.8,   8.4,  16.7,  14.2,  20.8,\n",
      "        13.4,  11.7,   8.3,  10.2,  10.9,  11. ,   9.5,  14.5,  14.1,\n",
      "        16.1,  14.3,  11.7,  13.4,   9.6,   8.7,   8.4,  12.8,  10.5,\n",
      "        17.1,  18.4,  15.4,  10.8,  11.8,  14.9,  12.6,  14.1,  13. ,\n",
      "        13.4,  15.2,  16.1,  17.8,  14.9,  14.1,  12.7,  13.5,  14.9,\n",
      "        20. ,  16.4,  17.7,  19.5,  20.2,  21.4,  19.9,  19. ,  19.1,\n",
      "        19.1,  20.1,  19.9,  19.6,  23.2,  29.8,  13.8,  13.3,  16.7,\n",
      "        12. ,  14.6,  21.4,  23. ,  23.7,  25. ,  21.8,  20.6,  21.2,\n",
      "        19.1,  20.6,  15.2,   7. ,   8.1,  13.6,  20.1,  21.8,  24.5,\n",
      "        23.1,  19.7,  18.3,  21.2,  17.5,  16.8,  22.4,  20.6,  23.9,\n",
      "        22. ,  11.9])}\n"
     ]
    }
   ],
   "source": [
    "#load the hosing dataset and print it to view the result\n",
    "bean=datasets.load_boston()\n",
    "print bean"
   ]
  },
  {
   "cell_type": "code",
   "execution_count": 3,
   "metadata": {
    "collapsed": true
   },
   "outputs": [],
   "source": [
    "def load_boston():\n",
    "    scaler = StandardScaler()\n",
    "    boston = datasets.load_boston()\n",
    "    X=boston.data\n",
    "    y=boston.target\n",
    "    X = scaler.fit_transform(X)\n",
    "    return train_test_split(X,y)"
   ]
  },
  {
   "cell_type": "code",
   "execution_count": 30,
   "metadata": {
    "collapsed": false
   },
   "outputs": [
    {
     "name": "stdout",
     "output_type": "stream",
     "text": [
      "(379L, 13L) (379L,)\n"
     ]
    }
   ],
   "source": [
    "#load the data to the individal variable\n",
    "X_train, X_test, y_train, y_test = load_boston()\n",
    "print X_train.shape,y_train.shape"
   ]
  },
  {
   "cell_type": "markdown",
   "metadata": {},
   "source": [
    "<h3>Linear Regression</h3>"
   ]
  },
  {
   "cell_type": "code",
   "execution_count": 26,
   "metadata": {
    "collapsed": false
   },
   "outputs": [
    {
     "data": {
      "text/plain": [
       "LinearRegression(copy_X=True, fit_intercept=True, n_jobs=1, normalize=False)"
      ]
     },
     "execution_count": 26,
     "metadata": {},
     "output_type": "execute_result"
    }
   ],
   "source": [
    "nlr=LinearRegression()\n",
    "nlr.fit(X_train,y_train)"
   ]
  },
  {
   "cell_type": "code",
   "execution_count": 8,
   "metadata": {
    "collapsed": false
   },
   "outputs": [
    {
     "data": {
      "text/plain": [
       "[(24.399999999999999, 28.682375201708027),\n",
       " (7.2000000000000002, 7.7225832588627235),\n",
       " (24.699999999999999, 22.638225238921311),\n",
       " (14.1, 14.667566168190342),\n",
       " (23.699999999999999, 26.813649902056301),\n",
       " (20.199999999999999, 15.591759703809617),\n",
       " (36.200000000000003, 27.773555155598459),\n",
       " (15.6, 15.210558926712345),\n",
       " (19.100000000000001, 24.971240587211149),\n",
       " (17.899999999999999, -0.023674267234760293),\n",
       " (21.399999999999999, 23.308086234273404),\n",
       " (8.8000000000000007, 2.9743628877114787),\n",
       " (39.799999999999997, 34.403576021147991),\n",
       " (28.0, 28.267180028616195),\n",
       " (26.399999999999999, 22.580165112875584),\n",
       " (20.899999999999999, 20.336167230284087),\n",
       " (20.600000000000001, 22.140325929504378),\n",
       " (29.600000000000001, 23.765066898637517),\n",
       " (24.300000000000001, 19.11248764953357),\n",
       " (22.800000000000001, 28.601199049985919),\n",
       " (28.199999999999999, 33.047354977034836),\n",
       " (18.199999999999999, 19.044226167594239),\n",
       " (19.899999999999999, 20.780613175710702),\n",
       " (17.800000000000001, 9.0670194788354763),\n",
       " (31.699999999999999, 33.202139215703845),\n",
       " (22.600000000000001, 23.60858668645476),\n",
       " (17.199999999999999, 13.267820803512119),\n",
       " (8.6999999999999993, 6.8112346373025936),\n",
       " (30.5, 30.136017031194651),\n",
       " (14.0, 13.710373706449095),\n",
       " (13.1, 20.795623433375653),\n",
       " (27.5, 19.254585200289711),\n",
       " (22.199999999999999, 21.283929699707564),\n",
       " (21.600000000000001, 25.893269121048505),\n",
       " (13.6, 11.856946913287572),\n",
       " (16.600000000000001, 14.926935743275321),\n",
       " (22.199999999999999, 18.561524487614562),\n",
       " (19.399999999999999, 16.242652947838145),\n",
       " (37.0, 30.404121085297731),\n",
       " (31.600000000000001, 33.100884157323819),\n",
       " (29.899999999999999, 31.502970450200571),\n",
       " (13.0, 17.081990937951481),\n",
       " (26.600000000000001, 20.943601077156238),\n",
       " (23.800000000000001, 23.182539312907764),\n",
       " (5.0, 6.6816183659382045),\n",
       " (26.199999999999999, 23.156602192925078),\n",
       " (33.200000000000003, 35.08760109027105),\n",
       " (21.199999999999999, 21.498628425806334),\n",
       " (25.0, 29.505477240931743),\n",
       " (28.100000000000001, 25.049301130928868),\n",
       " (22.0, 27.436657733315769),\n",
       " (16.100000000000001, 18.950704723769348),\n",
       " (10.800000000000001, 10.802374615450132),\n",
       " (19.399999999999999, 25.734946978258588),\n",
       " (35.399999999999999, 34.003597312133365),\n",
       " (22.800000000000001, 24.499002751570792),\n",
       " (7.2000000000000002, 7.4091895738607665),\n",
       " (20.100000000000001, 18.867630502258645),\n",
       " (7.2000000000000002, 17.990700142096792),\n",
       " (22.199999999999999, 25.856932764618524),\n",
       " (17.399999999999999, 22.838164107078043),\n",
       " (18.600000000000001, 18.813567990413247),\n",
       " (14.4, 7.3280014534357107),\n",
       " (50.0, 35.479440101777044),\n",
       " (16.699999999999999, 21.019586521471656),\n",
       " (23.800000000000001, 25.558018692175018),\n",
       " (33.0, 21.655268271228515),\n",
       " (31.5, 31.344717268549459),\n",
       " (50.0, 26.757231712142911),\n",
       " (23.600000000000001, 30.694518144146137),\n",
       " (21.699999999999999, 22.690302480094388),\n",
       " (13.199999999999999, 6.7754169471911077),\n",
       " (21.100000000000001, 22.032894470313511),\n",
       " (24.300000000000001, 30.323131487410993),\n",
       " (32.700000000000003, 29.523777628365824),\n",
       " (23.300000000000001, 26.111635716898263),\n",
       " (17.699999999999999, 20.712602363151653),\n",
       " (23.199999999999999, 25.401888523956629),\n",
       " (24.300000000000001, 24.345019476763483),\n",
       " (50.0, 42.014914844989136),\n",
       " (19.199999999999999, 20.886208951921887),\n",
       " (15.0, 13.870140873265955),\n",
       " (13.9, 17.493960214257466),\n",
       " (33.100000000000001, 32.720139267346916),\n",
       " (21.100000000000001, 19.816170084289766),\n",
       " (22.600000000000001, 19.823088949413901),\n",
       " (22.0, 26.651507742182893),\n",
       " (22.899999999999999, 24.985979380834539),\n",
       " (15.0, 25.623488258288695),\n",
       " (20.300000000000001, 18.887073396118254),\n",
       " (43.100000000000001, 37.202884731177832),\n",
       " (22.5, 21.57925958855888),\n",
       " (21.199999999999999, 22.285752964379448),\n",
       " (22.0, 22.658849862449323),\n",
       " (21.0, 21.019786830416656),\n",
       " (32.0, 34.363604319210623),\n",
       " (48.799999999999997, 40.798834065109318),\n",
       " (16.100000000000001, 21.285441349407755),\n",
       " (27.5, 31.459331265303696),\n",
       " (22.100000000000001, 27.425916070618321),\n",
       " (23.699999999999999, 28.031578922301627),\n",
       " (20.800000000000001, 19.463491917179194),\n",
       " (14.9, 13.708879081168913),\n",
       " (7.0, -7.0433396166397735),\n",
       " (23.100000000000001, 11.492014963226779),\n",
       " (17.0, 21.677271053727903),\n",
       " (24.800000000000001, 26.286879574775192),\n",
       " (16.5, 9.8109497819502138),\n",
       " (15.6, 13.36363963414442),\n",
       " (42.799999999999997, 28.394159455010847),\n",
       " (34.899999999999999, 34.646185403092367),\n",
       " (18.0, 19.675269553418033),\n",
       " (34.899999999999999, 34.758171291231463),\n",
       " (16.0, 17.803921544590395),\n",
       " (50.0, 40.533609248642726),\n",
       " (37.299999999999997, 35.026392573892423),\n",
       " (23.600000000000001, 29.269519829787559),\n",
       " (11.699999999999999, 13.839455645810686),\n",
       " (23.199999999999999, 23.12572992708381),\n",
       " (11.800000000000001, 8.3160977750640672),\n",
       " (30.100000000000001, 24.12128233624161),\n",
       " (23.100000000000001, 16.520502435817047),\n",
       " (45.399999999999999, 38.529769795137888),\n",
       " (28.699999999999999, 30.681482880929487),\n",
       " (14.6, 19.657126220822885),\n",
       " (27.0, 33.326677114973783),\n",
       " (25.199999999999999, 27.192858132513045)]"
      ]
     },
     "execution_count": 8,
     "metadata": {},
     "output_type": "execute_result"
    }
   ],
   "source": [
    "zip(y_test,nlr.predict(X_test))"
   ]
  },
  {
   "cell_type": "markdown",
   "metadata": {},
   "source": [
    "<h3>R2Score</h3>"
   ]
  },
  {
   "cell_type": "code",
   "execution_count": 31,
   "metadata": {
    "collapsed": false
   },
   "outputs": [
    {
     "data": {
      "text/plain": [
       "0.71841863154911034"
      ]
     },
     "execution_count": 31,
     "metadata": {},
     "output_type": "execute_result"
    }
   ],
   "source": [
    "#calculate the r2Score\n",
    "y_LrPred=nlr.predict(X_test)\n",
    "r2Score=r2_score(y_test,y_LrPred)\n",
    "r2Score"
   ]
  },
  {
   "cell_type": "markdown",
   "metadata": {},
   "source": [
    "<h3>Mean Squared Error (MSE)</h3>"
   ]
  },
  {
   "cell_type": "code",
   "execution_count": 32,
   "metadata": {
    "collapsed": false
   },
   "outputs": [
    {
     "data": {
      "text/plain": [
       "21.05179370502912"
      ]
     },
     "execution_count": 32,
     "metadata": {},
     "output_type": "execute_result"
    }
   ],
   "source": [
    "#calculate the mean sqared error\n",
    "mseValue=mean_squared_error(y_test,y_LrPred)\n",
    "mseValue"
   ]
  },
  {
   "cell_type": "markdown",
   "metadata": {},
   "source": [
    "<h2>Ridge Linear Model</h2>"
   ]
  },
  {
   "cell_type": "code",
   "execution_count": 40,
   "metadata": {
    "collapsed": false
   },
   "outputs": [
    {
     "name": "stdout",
     "output_type": "stream",
     "text": [
      "R2:-  0.713308553359\n",
      "MSE:-  21.4338371352\n"
     ]
    }
   ],
   "source": [
    "alpha=0.1\n",
    "ridge=Ridge(alpha=alpha)\n",
    "ridge.fit(X_train,y_train)\n",
    "y_RgPred=ridge.predict(X_test)\n",
    "r2RgScore=r2_score(y_test,y_RgPred)\n",
    "print \"R2:- \", r2RgScore\n",
    "mseRgScore=mean_squared_error(y_test,y_RgPred)\n",
    "print \"MSE:- \", mseRgScore"
   ]
  },
  {
   "cell_type": "code",
   "execution_count": 44,
   "metadata": {
    "collapsed": false
   },
   "outputs": [
    {
     "name": "stdout",
     "output_type": "stream",
     "text": [
      "R2:-  0.71333472613\n",
      "MSE:-  21.4318803872\n"
     ]
    }
   ],
   "source": [
    "alpha=0.01\n",
    "ridge=Ridge(alpha=alpha)\n",
    "ridge.fit(X_train,y_train)\n",
    "y_RgPred=ridge.predict(X_test)\n",
    "r2RgScore=r2_score(y_test,y_RgPred)\n",
    "print \"R2:- \", r2RgScore\n",
    "mseRgScore=mean_squared_error(y_test,y_RgPred)\n",
    "print \"MSE:- \", mseRgScore"
   ]
  },
  {
   "cell_type": "code",
   "execution_count": 45,
   "metadata": {
    "collapsed": false
   },
   "outputs": [
    {
     "name": "stdout",
     "output_type": "stream",
     "text": [
      "R2:-  0.713279410349\n",
      "MSE:-  21.4360159463\n"
     ]
    }
   ],
   "source": [
    "alpha=0.2\n",
    "ridge=Ridge(alpha=alpha)\n",
    "ridge.fit(X_train,y_train)\n",
    "y_RgPred=ridge.predict(X_test)\n",
    "r2RgScore=r2_score(y_test,y_RgPred)\n",
    "print \"R2:- \", r2RgScore\n",
    "mseRgScore=mean_squared_error(y_test,y_RgPred)\n",
    "print \"MSE:- \", mseRgScore"
   ]
  },
  {
   "cell_type": "markdown",
   "metadata": {},
   "source": [
    "<h2>Analysis</h2>"
   ]
  },
  {
   "cell_type": "markdown",
   "metadata": {},
   "source": [
    "<h2 style=\"color:green\"> After optimization,the Ridge linear model it does <b>not significantly deviate</b> from the performance of the original Linear Regression for this dataset.</h2>"
   ]
  },
  {
   "cell_type": "code",
   "execution_count": null,
   "metadata": {
    "collapsed": true
   },
   "outputs": [],
   "source": []
  }
 ],
 "metadata": {
  "anaconda-cloud": {},
  "kernelspec": {
   "display_name": "Python [Root]",
   "language": "python",
   "name": "Python [Root]"
  },
  "language_info": {
   "codemirror_mode": {
    "name": "ipython",
    "version": 2
   },
   "file_extension": ".py",
   "mimetype": "text/x-python",
   "name": "python",
   "nbconvert_exporter": "python",
   "pygments_lexer": "ipython2",
   "version": "2.7.12"
  }
 },
 "nbformat": 4,
 "nbformat_minor": 0
}
